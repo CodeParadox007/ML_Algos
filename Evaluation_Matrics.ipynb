{
 "cells": [
  {
   "cell_type": "markdown",
   "id": "67d02ab6-bef0-46b0-bc6f-d3ba63abbfba",
   "metadata": {},
   "source": [
    "# For evaluating Classification type problem used methods\n",
    "    1. Accuracy\n",
    "    2. Precison (P)\n",
    "    3.Recall (R)\n",
    "    4.F1 Score (F1)\n",
    "    5. AUC \n",
    "    "
   ]
  },
  {
   "cell_type": "markdown",
   "id": "bca2793c-22bf-41ad-8f00-d2460e9538b2",
   "metadata": {},
   "source": [
    "# Accuracy\n",
    "Basic Evaluation Metric\n",
    "Note : This evaluation metric normally used when same number of positive and negative targets are available "
   ]
  },
  {
   "cell_type": "code",
   "execution_count": 1,
   "id": "e74da8d3-a027-43e9-8e9a-f291fa17c324",
   "metadata": {},
   "outputs": [],
   "source": [
    "#Let true and predicted value of a calssifier\n",
    "y_true=[1,0,1,0,1,0,0,1]\n",
    "y_pred=[0,1,1,0,1,1,0,1]"
   ]
  },
  {
   "cell_type": "code",
   "execution_count": 2,
   "id": "2453d4aa-d9cd-4b5a-b974-7720bd68bee8",
   "metadata": {},
   "outputs": [],
   "source": [
    "#Python Code\n",
    "def accuracy(y_true,y_pred):\n",
    "    count=0\n",
    "    for y_t,y_p in zip(y_true,y_pred):\n",
    "        if y_t==y_p:\n",
    "            count+=1\n",
    "            \n",
    "    acc=count/len(y_true)\n",
    "    return acc"
   ]
  },
  {
   "cell_type": "code",
   "execution_count": 3,
   "id": "96d82583-c98e-4ffb-9878-cd1490509d37",
   "metadata": {},
   "outputs": [
    {
     "name": "stdout",
     "output_type": "stream",
     "text": [
      "So Accuracy of the model using Python Code0.625\n"
     ]
    }
   ],
   "source": [
    "print(f\"So Accuracy of the model using Python Code{accuracy(y_true,y_pred)}\")"
   ]
  },
  {
   "cell_type": "code",
   "execution_count": 4,
   "id": "d7829ef9-39a2-4566-a75d-2211873ef813",
   "metadata": {},
   "outputs": [
    {
     "data": {
      "text/plain": [
       "0.625"
      ]
     },
     "execution_count": 4,
     "metadata": {},
     "output_type": "execute_result"
    }
   ],
   "source": [
    "#Using sci-kit learn\n",
    "from sklearn import metrics\n",
    "\n",
    "metrics.accuracy_score(y_true,y_pred)"
   ]
  },
  {
   "cell_type": "markdown",
   "id": "b34a5b0d-4c98-438f-b2f0-eb0998059c87",
   "metadata": {},
   "source": [
    "# TP, TN, FP, FN\n",
    "\n",
    "    True Positive (TP) : Predicts Positive(1) and Actual is also Positive(1)\n",
    "    True Negative (TN) : Predicts Negative(0) and Actual is also Negative(0)\n",
    "    False Positive (FP): Predicts Positive (1) and Actual is Negative(0)\n",
    "    False Negative (FN): Predicts Negative (0) and Actual is Positive(1)"
   ]
  },
  {
   "cell_type": "code",
   "execution_count": 5,
   "id": "8b0d32f9-8614-4373-99d3-e31543aac73e",
   "metadata": {},
   "outputs": [],
   "source": [
    "def true_positive(y_true, y_pred):\n",
    "    TP=0\n",
    "    for y_t, y_p in zip(y_true, y_pred):\n",
    "        if y_p==1 and y_t==1:\n",
    "            TP+=1\n",
    "            \n",
    "    return TP        "
   ]
  },
  {
   "cell_type": "code",
   "execution_count": 6,
   "id": "6c4d7747-3a45-43c8-a44a-dbe52ec25282",
   "metadata": {},
   "outputs": [],
   "source": [
    "def true_negative(y_true, y_pred):\n",
    "    TN=0\n",
    "    for y_t, y_p in zip(y_true, y_pred):\n",
    "        if y_p==0 and y_t==0:\n",
    "            TN+=1\n",
    "            \n",
    "    return TN        "
   ]
  },
  {
   "cell_type": "code",
   "execution_count": 7,
   "id": "f795da4c-8610-4400-b063-4f34962997d8",
   "metadata": {},
   "outputs": [],
   "source": [
    "def false_positive(y_true, y_pred):\n",
    "    FP=0\n",
    "    for y_t, y_p in zip(y_true, y_pred):\n",
    "        if y_p==1 and y_t==0:\n",
    "            FP+=1\n",
    "            \n",
    "    return FP        "
   ]
  },
  {
   "cell_type": "code",
   "execution_count": 8,
   "id": "04462461-5bd1-45a3-8134-a81c26c33705",
   "metadata": {},
   "outputs": [],
   "source": [
    "def false_negative(y_train, y_pred):\n",
    "    FN=0\n",
    "    for y_t, y_p in zip(y_true, y_pred):\n",
    "        if y_p==0 and y_t==1:\n",
    "            FN+=1\n",
    "            \n",
    "    return FN        "
   ]
  },
  {
   "cell_type": "markdown",
   "id": "e5b8185b-0ad8-4dfe-8607-8d493619764f",
   "metadata": {},
   "source": [
    "# Accuracy using this \n",
    "    Accuracy=(TP+TN)/(TP+TN+FP+FN)\n",
    "    "
   ]
  },
  {
   "cell_type": "code",
   "execution_count": 9,
   "id": "ec685605-ab10-42a3-a632-cbcbf8d60e9e",
   "metadata": {},
   "outputs": [
    {
     "name": "stdout",
     "output_type": "stream",
     "text": [
      "True Positive : 3\n",
      "True Positive : 2\n",
      "True Positive : 2\n",
      "True Positive : 1\n"
     ]
    }
   ],
   "source": [
    "TP=true_positive(y_true,y_pred)\n",
    "print(f\"True Positive : {TP}\")\n",
    "\n",
    "TN=true_negative(y_true,y_pred)\n",
    "print(f\"True Positive : {TN}\")\n",
    "\n",
    "FP=false_positive(y_true,y_pred)\n",
    "print(f\"True Positive : {FP}\")\n",
    "\n",
    "FN=false_negative(y_true,y_pred)\n",
    "print(f\"True Positive : {FN}\")"
   ]
  },
  {
   "cell_type": "code",
   "execution_count": 10,
   "id": "71809994-2a4b-4964-8c21-2350ad071edb",
   "metadata": {},
   "outputs": [
    {
     "data": {
      "text/plain": [
       "0.625"
      ]
     },
     "execution_count": 10,
     "metadata": {},
     "output_type": "execute_result"
    }
   ],
   "source": [
    "accuracy=(TP+TN)/(TP+TN+FN+FP)\n",
    "accuracy"
   ]
  },
  {
   "cell_type": "markdown",
   "id": "038a3480-b842-4db5-b956-14313ebd3f8c",
   "metadata": {},
   "source": [
    "Same as before"
   ]
  },
  {
   "cell_type": "markdown",
   "id": "b61a358c-81ab-4035-9a85-2deeb1efb475",
   "metadata": {},
   "source": [
    "# Precision (P) \n",
    "    precision=TP/(TP+FP)\n",
    "    This means the model is correct precision times when its trying to identify positive samples"
   ]
  },
  {
   "cell_type": "code",
   "execution_count": 11,
   "id": "fe098d51-eb67-4ff3-87ca-970fbbc55295",
   "metadata": {},
   "outputs": [
    {
     "data": {
      "text/plain": [
       "0.6"
      ]
     },
     "execution_count": 11,
     "metadata": {},
     "output_type": "execute_result"
    }
   ],
   "source": [
    "precision=TP/(TP+FP)\n",
    "P=precision\n",
    "P"
   ]
  },
  {
   "cell_type": "markdown",
   "id": "16f5ca77-d7f5-4d93-8845-a48cd66be921",
   "metadata": {},
   "source": [
    "so the model is correct 60% time when its trying to identify positive samples"
   ]
  },
  {
   "cell_type": "markdown",
   "id": "69df696a-87c7-4d9d-af1e-b2be6a5e08d7",
   "metadata": {},
   "source": [
    "# Recall(P)\n",
    "    recall=TP/(TP+FN)\n",
    "    This means the model identified (recall)% of positve samples correctly"
   ]
  },
  {
   "cell_type": "code",
   "execution_count": 12,
   "id": "035d9837-0b09-44e2-b5d3-401a8d7a08b0",
   "metadata": {},
   "outputs": [
    {
     "data": {
      "text/plain": [
       "0.75"
      ]
     },
     "execution_count": 12,
     "metadata": {},
     "output_type": "execute_result"
    }
   ],
   "source": [
    "recall=TP/(TP+FN)\n",
    "R=recall\n",
    "R"
   ]
  },
  {
   "cell_type": "markdown",
   "id": "365a514f-c8b9-4993-8a93-3f129e943a4f",
   "metadata": {},
   "source": [
    "so 75% of positive samples identifed correctly"
   ]
  },
  {
   "cell_type": "markdown",
   "id": "f4f0b527-5ace-40ab-a367-a836a48790b5",
   "metadata": {},
   "source": [
    "# Higher Precision and Recall is Good. Normally threshold is 50%"
   ]
  },
  {
   "cell_type": "markdown",
   "id": "acbfc59d",
   "metadata": {},
   "source": [
    "# F1 score\n",
    "    F1 score is a matric that combines both precisions(P) and Recalls(R)\n",
    "        F1= 2PR/(P+R)"
   ]
  },
  {
   "cell_type": "code",
   "execution_count": 13,
   "id": "8dde78ca",
   "metadata": {},
   "outputs": [
    {
     "data": {
      "text/plain": [
       "0.6666666666666665"
      ]
     },
     "execution_count": 13,
     "metadata": {},
     "output_type": "execute_result"
    }
   ],
   "source": [
    "F1=2*P*R/(P+R)\n",
    "F1"
   ]
  },
  {
   "cell_type": "code",
   "execution_count": 14,
   "id": "b7e20f63",
   "metadata": {},
   "outputs": [
    {
     "data": {
      "text/plain": [
       "0.6666666666666665"
      ]
     },
     "execution_count": 14,
     "metadata": {},
     "output_type": "execute_result"
    }
   ],
   "source": [
    "# Using Scikit learn\n",
    "metrics.f1_score(y_true,y_pred)"
   ]
  },
  {
   "cell_type": "markdown",
   "id": "a069eb6a",
   "metadata": {},
   "source": [
    "# When Dataset are Skewed F1 is used instead of Accuracy"
   ]
  },
  {
   "cell_type": "code",
   "execution_count": 15,
   "id": "fd59b050",
   "metadata": {},
   "outputs": [],
   "source": [
    "TPR=recall\n",
    "FPR=FP/(FP+TN)"
   ]
  },
  {
   "cell_type": "code",
   "execution_count": 16,
   "id": "a6e9c404",
   "metadata": {},
   "outputs": [
    {
     "name": "stdout",
     "output_type": "stream",
     "text": [
      "TPR is 0.75 and FPR is 0.5\n"
     ]
    }
   ],
   "source": [
    "print(f\"TPR is {TPR} and FPR is {FPR}\")"
   ]
  },
  {
   "cell_type": "code",
   "execution_count": 17,
   "id": "6f7b9a84",
   "metadata": {},
   "outputs": [],
   "source": [
    "def tpr(y_true, y_pred):\n",
    "    TP=true_positive(y_true,y_pred)\n",
    "    TN=true_negative(y_true,y_pred)\n",
    "    FN=false_negative(y_true,y_pred)\n",
    "    FP=false_positive(y_true,y_pred)\n",
    "    print(f\"TP : {TP}, FP {FP}, TN {TN}, FN {FN}\")\n",
    "    tp=TP/(TP+FN)\n",
    "    return tp\n",
    "\n",
    "\n",
    "def fpr(y_true, y_pred):\n",
    "    TP=true_positive(y_true,y_pred)\n",
    "    TN=true_negative(y_true,y_pred)\n",
    "    FN=false_negative(y_true,y_pred)\n",
    "    FP=false_positive(y_true,y_pred)\n",
    "    print(f\"TP : {TP}, FP {FP}, TN {TN}, FN {FN}\")\n",
    "    fp=FP/(FP+TN)\n",
    "    return fp\n"
   ]
  },
  {
   "cell_type": "code",
   "execution_count": 18,
   "id": "45a9845a",
   "metadata": {},
   "outputs": [
    {
     "name": "stdout",
     "output_type": "stream",
     "text": [
      "[1, 1, 1, 1, 1, 1, 1, 1, 1, 1, 1, 1, 1, 1, 1]\n",
      "TP : 5, FP 10, TN 0, FN 0\n",
      "TP : 5, FP 10, TN 0, FN 0\n",
      "[1, 1, 1, 1, 1, 0, 1, 1, 1, 1, 1, 1, 1, 1, 1]\n",
      "TP : 5, FP 9, TN 1, FN 0\n",
      "TP : 5, FP 9, TN 1, FN 0\n",
      "[0, 1, 1, 1, 1, 0, 1, 1, 1, 1, 1, 1, 1, 0, 1]\n",
      "TP : 5, FP 7, TN 3, FN 0\n",
      "TP : 5, FP 7, TN 3, FN 0\n",
      "[0, 1, 0, 1, 1, 0, 1, 1, 1, 1, 1, 0, 1, 0, 1]\n",
      "TP : 4, FP 6, TN 4, FN 1\n",
      "TP : 4, FP 6, TN 4, FN 1\n",
      "[0, 0, 0, 1, 1, 0, 1, 1, 0, 1, 0, 0, 1, 0, 1]\n",
      "TP : 4, FP 3, TN 7, FN 1\n",
      "TP : 4, FP 3, TN 7, FN 1\n",
      "[0, 0, 0, 1, 1, 0, 1, 1, 0, 1, 0, 0, 1, 0, 1]\n",
      "TP : 4, FP 3, TN 7, FN 1\n",
      "TP : 4, FP 3, TN 7, FN 1\n",
      "[0, 0, 0, 1, 1, 0, 1, 0, 0, 1, 0, 0, 1, 0, 1]\n",
      "TP : 4, FP 2, TN 8, FN 1\n",
      "TP : 4, FP 2, TN 8, FN 1\n",
      "[0, 0, 0, 0, 1, 0, 1, 0, 0, 0, 0, 0, 1, 0, 1]\n",
      "TP : 3, FP 1, TN 9, FN 2\n",
      "TP : 3, FP 1, TN 9, FN 2\n",
      "[0, 0, 0, 0, 1, 0, 1, 0, 0, 0, 0, 0, 1, 0, 1]\n",
      "TP : 3, FP 1, TN 9, FN 2\n",
      "TP : 3, FP 1, TN 9, FN 2\n",
      "[0, 0, 0, 0, 0, 0, 1, 0, 0, 0, 0, 0, 1, 0, 1]\n",
      "TP : 2, FP 1, TN 9, FN 3\n",
      "TP : 2, FP 1, TN 9, FN 3\n",
      "[0, 0, 0, 0, 0, 0, 1, 0, 0, 0, 0, 0, 0, 0, 1]\n",
      "TP : 2, FP 0, TN 10, FN 3\n",
      "TP : 2, FP 0, TN 10, FN 3\n",
      "[0, 0, 0, 0, 0, 0, 0, 0, 0, 0, 0, 0, 0, 0, 1]\n",
      "TP : 1, FP 0, TN 10, FN 4\n",
      "TP : 1, FP 0, TN 10, FN 4\n",
      "[0, 0, 0, 0, 0, 0, 0, 0, 0, 0, 0, 0, 0, 0, 0]\n",
      "TP : 0, FP 0, TN 10, FN 5\n",
      "TP : 0, FP 0, TN 10, FN 5\n"
     ]
    },
    {
     "data": {
      "text/html": [
       "<div>\n",
       "<style scoped>\n",
       "    .dataframe tbody tr th:only-of-type {\n",
       "        vertical-align: middle;\n",
       "    }\n",
       "\n",
       "    .dataframe tbody tr th {\n",
       "        vertical-align: top;\n",
       "    }\n",
       "\n",
       "    .dataframe thead th {\n",
       "        text-align: right;\n",
       "    }\n",
       "</style>\n",
       "<table border=\"1\" class=\"dataframe\">\n",
       "  <thead>\n",
       "    <tr style=\"text-align: right;\">\n",
       "      <th></th>\n",
       "      <th></th>\n",
       "      <th></th>\n",
       "    </tr>\n",
       "  </thead>\n",
       "  <tbody>\n",
       "    <tr>\n",
       "      <th>0.00</th>\n",
       "      <th>1.0</th>\n",
       "      <th>1.0</th>\n",
       "    </tr>\n",
       "    <tr>\n",
       "      <th>0.10</th>\n",
       "      <th>0.9</th>\n",
       "      <th>1.0</th>\n",
       "    </tr>\n",
       "    <tr>\n",
       "      <th>0.20</th>\n",
       "      <th>0.7</th>\n",
       "      <th>1.0</th>\n",
       "    </tr>\n",
       "    <tr>\n",
       "      <th>0.30</th>\n",
       "      <th>0.6</th>\n",
       "      <th>0.8</th>\n",
       "    </tr>\n",
       "    <tr>\n",
       "      <th>0.40</th>\n",
       "      <th>0.3</th>\n",
       "      <th>0.8</th>\n",
       "    </tr>\n",
       "    <tr>\n",
       "      <th>0.50</th>\n",
       "      <th>0.3</th>\n",
       "      <th>0.8</th>\n",
       "    </tr>\n",
       "    <tr>\n",
       "      <th>0.60</th>\n",
       "      <th>0.2</th>\n",
       "      <th>0.8</th>\n",
       "    </tr>\n",
       "    <tr>\n",
       "      <th>0.70</th>\n",
       "      <th>0.1</th>\n",
       "      <th>0.6</th>\n",
       "    </tr>\n",
       "    <tr>\n",
       "      <th>0.80</th>\n",
       "      <th>0.1</th>\n",
       "      <th>0.6</th>\n",
       "    </tr>\n",
       "    <tr>\n",
       "      <th>0.85</th>\n",
       "      <th>0.1</th>\n",
       "      <th>0.4</th>\n",
       "    </tr>\n",
       "    <tr>\n",
       "      <th>0.90</th>\n",
       "      <th>0.0</th>\n",
       "      <th>0.4</th>\n",
       "    </tr>\n",
       "    <tr>\n",
       "      <th>0.99</th>\n",
       "      <th>0.0</th>\n",
       "      <th>0.2</th>\n",
       "    </tr>\n",
       "    <tr>\n",
       "      <th>1.00</th>\n",
       "      <th>0.0</th>\n",
       "      <th>0.0</th>\n",
       "    </tr>\n",
       "  </tbody>\n",
       "</table>\n",
       "</div>"
      ],
      "text/plain": [
       "Empty DataFrame\n",
       "Columns: []\n",
       "Index: [(0.0, 1.0, 1.0), (0.1, 0.9, 1.0), (0.2, 0.7, 1.0), (0.3, 0.6, 0.8), (0.4, 0.3, 0.8), (0.5, 0.3, 0.8), (0.6, 0.2, 0.8), (0.7, 0.1, 0.6), (0.8, 0.1, 0.6), (0.85, 0.1, 0.4), (0.9, 0.0, 0.4), (0.99, 0.0, 0.2), (1.0, 0.0, 0.0)]"
      ]
     },
     "execution_count": 18,
     "metadata": {},
     "output_type": "execute_result"
    }
   ],
   "source": [
    "tpr_list = []\n",
    "fpr_list = []\n",
    "# actual targets\n",
    "y_true = [0, 0, 0, 0, 1, 0, 1, 0, 0, 1, 0, 1, 0, 0, 1]\n",
    "# predicted probabilities of a sample being 1\n",
    "y_pred = [0.1, 0.3, 0.2, 0.6, 0.8, 0.05, 0.9, 0.5, 0.3, 0.66, 0.3, 0.2, 0.85, 0.15, 0.99]\n",
    "# handmade thresholds\n",
    "thresholds = [0, 0.1, 0.2, 0.3, 0.4, 0.5, 0.6, 0.7, 0.8, 0.85, 0.9, 0.99,1.0]\n",
    "# loop over all thresholds\n",
    "for thresh in thresholds:\n",
    "    # calculate predictions for a given threshold\n",
    "    temp_pred = [1 if x >= thresh else 0 for x in y_pred]\n",
    "    print(temp_pred)\n",
    "    # calculate tpr\n",
    "    temp_tpr = tpr(y_true, temp_pred)\n",
    "    # calculate fpr\n",
    "    temp_fpr = fpr(y_true, temp_pred)\n",
    "    # append tpr and fpr to lists\n",
    "    tpr_list.append(temp_tpr)\n",
    "    fpr_list.append(temp_fpr)\n",
    "    \n",
    "import pandas as pd\n",
    "\n",
    "pd.DataFrame(index=[thresholds,fpr_list,tpr_list])"
   ]
  },
  {
   "cell_type": "code",
   "execution_count": 19,
   "id": "68c7f739",
   "metadata": {},
   "outputs": [],
   "source": [
    "# import matplotlib.pyplot as plt\n",
    "\n",
    "# plt.fill_between(fpr_list, tpr_list, alpha =0.5)\n",
    "# # plt.xlabel(\"FPR\")\n",
    "# # plt.ylabel(\"TPR\")\n",
    "# # plt.title(\"Receiver Operating Characterisitcs (ROC)\")"
   ]
  },
  {
   "cell_type": "markdown",
   "id": "f27c93bf",
   "metadata": {},
   "source": [
    "#  Area Under this ROC is Known as AUC or Area Under ROC Curve "
   ]
  },
  {
   "cell_type": "code",
   "execution_count": 20,
   "id": "2dc412f6",
   "metadata": {},
   "outputs": [
    {
     "data": {
      "text/plain": [
       "0.8300000000000001"
      ]
     },
     "execution_count": 20,
     "metadata": {},
     "output_type": "execute_result"
    }
   ],
   "source": [
    "#Calculating AUC using Scikit Learn (from sklearn import metrics) \n",
    "metrics.roc_auc_score(y_true,y_pred)"
   ]
  },
  {
   "cell_type": "markdown",
   "id": "1f291999",
   "metadata": {},
   "source": [
    "# For multiclass : Calculating Precision and Recall"
   ]
  },
  {
   "cell_type": "markdown",
   "id": "40703a16",
   "metadata": {},
   "source": [
    "# Multiclass  Precision"
   ]
  },
  {
   "cell_type": "code",
   "execution_count": 21,
   "id": "6088cd8b",
   "metadata": {},
   "outputs": [],
   "source": [
    "# Using raw check book\n"
   ]
  },
  {
   "cell_type": "code",
   "execution_count": 22,
   "id": "9397664d",
   "metadata": {},
   "outputs": [],
   "source": [
    "y_true=[1,0,1,0,1,0,0,1]\n",
    "y_pred=[0,1,1,0,1,1,0,1]"
   ]
  },
  {
   "cell_type": "code",
   "execution_count": 23,
   "id": "0640aba7",
   "metadata": {},
   "outputs": [
    {
     "name": "stdout",
     "output_type": "stream",
     "text": [
      "0.6333333333333333\n",
      "0.625\n",
      "0.6333333333333333\n"
     ]
    }
   ],
   "source": [
    "#using python scikit learn\n",
    "from sklearn import metrics\n",
    "print(metrics.precision_score(y_true,y_pred,average=\"macro\"))\n",
    "print(metrics.precision_score(y_true,y_pred,average=\"micro\"))\n",
    "print(metrics.precision_score(y_true,y_pred,average=\"weighted\"))"
   ]
  },
  {
   "cell_type": "markdown",
   "id": "127c1a37",
   "metadata": {},
   "source": [
    "# Multiclass recall"
   ]
  },
  {
   "cell_type": "code",
   "execution_count": 24,
   "id": "44377af9",
   "metadata": {},
   "outputs": [
    {
     "name": "stdout",
     "output_type": "stream",
     "text": [
      "0.625\n",
      "0.625\n",
      "0.625\n"
     ]
    }
   ],
   "source": [
    "print(metrics.recall_score(y_true,y_pred,average=\"macro\"))\n",
    "print(metrics.recall_score(y_true,y_pred,average=\"micro\"))\n",
    "print(metrics.recall_score(y_true,y_pred,average=\"weighted\"))"
   ]
  },
  {
   "cell_type": "markdown",
   "id": "48057983",
   "metadata": {},
   "source": [
    "# F1 score"
   ]
  },
  {
   "cell_type": "code",
   "execution_count": 25,
   "id": "5d5f98b6",
   "metadata": {},
   "outputs": [
    {
     "name": "stdout",
     "output_type": "stream",
     "text": [
      "0.6190476190476191\n",
      "0.625\n",
      "0.6190476190476191\n"
     ]
    }
   ],
   "source": [
    "print(metrics.f1_score(y_true,y_pred,average=\"macro\"))\n",
    "print(metrics.f1_score(y_true,y_pred,average=\"micro\"))\n",
    "print(metrics.f1_score(y_true,y_pred,average=\"weighted\"))"
   ]
  },
  {
   "cell_type": "markdown",
   "id": "07c1db4e",
   "metadata": {},
   "source": [
    "# Plotting Confusion Matrix"
   ]
  },
  {
   "cell_type": "code",
   "execution_count": 26,
   "id": "eec2b48f",
   "metadata": {},
   "outputs": [
    {
     "name": "stdout",
     "output_type": "stream",
     "text": [
      "Actual Values [1, 0, 1, 0, 1, 0, 0, 1]\n",
      "Predicted Values [0, 1, 1, 0, 1, 1, 0, 1]\n"
     ]
    }
   ],
   "source": [
    "print(f\"Actual Values {y_true}\")\n",
    "print(f\"Predicted Values {y_pred}\")"
   ]
  },
  {
   "cell_type": "code",
   "execution_count": null,
   "id": "08231f66",
   "metadata": {},
   "outputs": [],
   "source": []
  },
  {
   "cell_type": "code",
   "execution_count": 27,
   "id": "89ab0b71",
   "metadata": {},
   "outputs": [
    {
     "data": {
      "text/plain": [
       "Text(0.5, 50.5, 'predicted')"
      ]
     },
     "execution_count": 27,
     "metadata": {},
     "output_type": "execute_result"
    },
    {
     "data": {
      "image/png": "[encoded data removed]",
      "text/plain": [
       "<Figure size 720x720 with 1 Axes>"
      ]
     },
     "metadata": {
      "needs_background": "light"
     },
     "output_type": "display_data"
    }
   ],
   "source": [
    "import matplotlib.pyplot as plt\n",
    "from importlib import reload\n",
    "plt=reload(plt)\n",
    "import seaborn as sns\n",
    "\n",
    "# confusion matrix\n",
    "cm=metrics.confusion_matrix(y_true,y_pred)\n",
    "\n",
    "#plotting\n",
    "\n",
    "plt.figure(figsize=(10,10))\n",
    "\n",
    "cmap=sns.cubehelix_palette(50, hue=0.05, rot=0, light =0.9 , dark=0, as_cmap=True)\n",
    "sns.set(font_scale=2.5)\n",
    "sns.heatmap(cm, annot=True, cmap=cmap, cbar=False)\n",
    "plt.ylabel('actual')\n",
    "plt.xlabel(\"predicted\")"
   ]
  },
  {
   "cell_type": "raw",
   "id": "c00e0d5a",
   "metadata": {},
   "source": [
    "Here Class 1 , in True or actual 4 instances and in Prediction 5\n",
    "and Class 0, in True or actual 4 instances and in prediction 3"
   ]
  },
  {
   "cell_type": "code",
   "execution_count": 28,
   "id": "0d0bf730",
   "metadata": {},
   "outputs": [
    {
     "name": "stdout",
     "output_type": "stream",
     "text": [
      "True Positive : 3\n",
      "True Negative : 2\n",
      "False Positive : 2\n",
      "False Negative : 1\n"
     ]
    }
   ],
   "source": [
    "TP=true_positive(y_true,y_pred)\n",
    "print(f\"True Positive : {TP}\")\n",
    "\n",
    "TN=true_negative(y_true,y_pred)\n",
    "print(f\"True Negative : {TN}\")\n",
    "\n",
    "FP=false_positive(y_true,y_pred)\n",
    "print(f\"False Positive : {FP}\")\n",
    "\n",
    "FN=false_negative(y_true,y_pred)\n",
    "print(f\"False Negative : {FN}\")"
   ]
  },
  {
   "cell_type": "markdown",
   "id": "726760ef",
   "metadata": {},
   "source": [
    "# Metrics for mltilabel classification\n",
    "    1. Percision at k\n",
    "    2. Average percision at k \n",
    "    3. Mean Average precision at k\n",
    "    4. Log Loss"
   ]
  },
  {
   "cell_type": "markdown",
   "id": "7336bbaa",
   "metadata": {},
   "source": [
    "# Precision at k\n"
   ]
  },
  {
   "cell_type": "code",
   "execution_count": 39,
   "id": "7a8c20f6",
   "metadata": {},
   "outputs": [],
   "source": [
    "def pk(y_true, y_pred,k):\n",
    "    if k==0:\n",
    "        return 0\n",
    "    \n",
    "    y_pred=y_pred[:k]\n",
    "    pred_set=set(y_pred)\n",
    "    print(f\"Pred Set : {pred_set}\")\n",
    "    true_set=set(y_true)\n",
    "    print(f\"True set : {true_set}\")\n",
    "    \n",
    "    common_values=pred_set.intersection(true_set)\n",
    "    print(f\"Common values : {common_values}\")\n",
    "    \n",
    "    \n",
    "    length=len(common_values)/len(y_pred[:k])\n",
    "    print(length)\n",
    "    \n",
    "    return length\n",
    "    "
   ]
  },
  {
   "cell_type": "code",
   "execution_count": 40,
   "id": "f49ca65f",
   "metadata": {},
   "outputs": [],
   "source": [
    "y_true = [\n",
    "...: [1, 2, 3],\n",
    "...: [0, 2],\n",
    "...: [1],\n",
    "...: [2, 3],\n",
    "...: [1, 0],\n",
    "...: []\n",
    "...: ]"
   ]
  },
  {
   "cell_type": "code",
   "execution_count": 41,
   "id": "1e5301fc",
   "metadata": {},
   "outputs": [],
   "source": [
    " y_pred = [\n",
    "...: [0, 1, 2],\n",
    "...: [1],\n",
    "...: [0, 2, 3],\n",
    "...: [2, 3, 4, 0],\n",
    "...: [0, 1, 2],\n",
    "...: [0]\n",
    "...: ]"
   ]
  },
  {
   "cell_type": "code",
   "execution_count": 42,
   "id": "9e6445ae",
   "metadata": {},
   "outputs": [],
   "source": [
    "y_true=[1,2, 3, 5,6,7,8]\n",
    "y_pred=[1,2,3,4,5,8,9]"
   ]
  },
  {
   "cell_type": "code",
   "execution_count": 43,
   "id": "5ae884b9",
   "metadata": {},
   "outputs": [
    {
     "name": "stdout",
     "output_type": "stream",
     "text": [
      "Pred Set : {1, 2, 3}\n",
      "True set : {1, 2, 3, 5, 6, 7, 8}\n",
      "Common values : {1, 2, 3}\n",
      "1.0\n"
     ]
    },
    {
     "data": {
      "text/plain": [
       "1.0"
      ]
     },
     "execution_count": 43,
     "metadata": {},
     "output_type": "execute_result"
    }
   ],
   "source": [
    "pk(y_true,y_pred,3)"
   ]
  },
  {
   "cell_type": "code",
   "execution_count": null,
   "id": "c029b564",
   "metadata": {},
   "outputs": [],
   "source": []
  }
 ],
 "metadata": {
  "kernelspec": {
   "display_name": "Python 3 (ipykernel)",
   "language": "python",
   "name": "python3"
  },
  "language_info": {
   "codemirror_mode": {
    "name": "ipython",
    "version": 3
   },
   "file_extension": ".py",
   "mimetype": "text/x-python",
   "name": "python",
   "nbconvert_exporter": "python",
   "pygments_lexer": "ipython3",
   "version": "3.9.7"
  }
 },
 "nbformat": 4,
 "nbformat_minor": 5
}
